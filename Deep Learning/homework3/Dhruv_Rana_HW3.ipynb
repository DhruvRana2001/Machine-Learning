{
 "cells": [
  {
   "attachments": {},
   "cell_type": "markdown",
   "metadata": {},
   "source": [
    "### 0) Import Packages"
   ]
  },
  {
   "cell_type": "code",
   "execution_count": 635,
   "metadata": {},
   "outputs": [
    {
     "name": "stdout",
     "output_type": "stream",
     "text": [
      "Using cuda for inference\n"
     ]
    }
   ],
   "source": [
    "import time\n",
    "import copy\n",
    "\n",
    "import numpy as np\n",
    "\n",
    "import torch\n",
    "import torch.nn as nn\n",
    "from torch.utils.data import DataLoader\n",
    "\n",
    "from torchvision import datasets, transforms\n",
    "\n",
    "import matplotlib.pyplot as plt\n",
    "\n",
    "if torch.cuda.is_available():\n",
    "    torch.backends.cudnn.deterministic = True\n",
    "\n",
    "DEVICE = torch.device(\"cuda\") if torch.cuda.is_available() else torch.device(\"cpu\")\n",
    "print(f'Using {DEVICE} for inference')"
   ]
  },
  {
   "attachments": {},
   "cell_type": "markdown",
   "metadata": {},
   "source": [
    "### 1) Hyperparameters"
   ]
  },
  {
   "cell_type": "code",
   "execution_count": 636,
   "metadata": {},
   "outputs": [],
   "source": [
    "#Train\n",
    "BATCH_SIZE = 128\n",
    "NUM_EPOCHS = 10\n",
    "\n",
    "#Optimizer\n",
    "LEARNING_RATE = 0.01\n",
    "WEIGHT_DECAY = 0.005\n",
    "MOMENTUM = 0.9\n",
    "\n",
    "#Model\n",
    "NUM_INPUTS = 1*28*28 # grayscale (1-channel) 28*28 picture\n",
    "NUM_CLASSES = 10 # digits 0 to 9\n"
   ]
  },
  {
   "attachments": {},
   "cell_type": "markdown",
   "metadata": {},
   "source": [
    "### 2) Load MNIST Dataset"
   ]
  },
  {
   "cell_type": "code",
   "execution_count": 637,
   "metadata": {},
   "outputs": [],
   "source": [
    "transform=transforms.Compose([\n",
    "        transforms.ToTensor(), # Use tensors\n",
    "        transforms.Lambda(torch.flatten) # flatten the images\n",
    "        ])\n",
    "\n",
    "train_data = datasets.MNIST( \n",
    "    root=\"dataset\",\n",
    "    train=True,\n",
    "    download=True,\n",
    "    transform= transform\n",
    ")\n",
    "\n",
    "test_data = datasets.MNIST(\n",
    "    root=\"dataset\",\n",
    "    train=False,\n",
    "    download=True,\n",
    "    transform= transform\n",
    ")\n",
    "\n",
    "train_loader = DataLoader(dataset=train_data, \n",
    "                          batch_size=BATCH_SIZE, \n",
    "                          shuffle=True)\n",
    "\n",
    "test_loader = DataLoader(dataset=test_data, \n",
    "                         batch_size=BATCH_SIZE, \n",
    "                         shuffle=False)\n",
    "\n",
    "CLASSES = train_data.classes"
   ]
  },
  {
   "attachments": {},
   "cell_type": "markdown",
   "metadata": {},
   "source": [
    "### 3) Make Model"
   ]
  },
  {
   "cell_type": "code",
   "execution_count": 638,
   "metadata": {},
   "outputs": [],
   "source": [
    "class MNISTNet(nn.Module):\n",
    "\n",
    "    def __init__(self,num_inputs=NUM_INPUTS,num_classes=10):\n",
    "        super(MNISTNet, self).__init__()\n",
    "\n",
    "        self.fc1 =  nn.Sequential(\n",
    "            # num_input(784) -> 200\n",
    "            nn.Linear(in_features=num_inputs, out_features=200, bias=True),#Applies a linear transformation to the incoming data: y=xA^T+b\n",
    "            nn.ReLU(), #Applies the rectified linear unit function element-wise\n",
    "        )\n",
    "\n",
    "        self.fc2 =  nn.Sequential(\n",
    "            nn.Linear(in_features=200, out_features=50, bias=True),# 200 -> 50\n",
    "            nn.ReLU(),\n",
    "        )\n",
    "\n",
    "        self.fc3 =  nn.Sequential(\n",
    "            nn.Linear(in_features=50, out_features=num_classes, bias=True),# 50 -> 10\n",
    "        )\n",
    "\n",
    "        self.out =  nn.Sequential(\n",
    "            nn.Softmax(dim=1), # a Tensor of the same dimension and shape as the input with values in the range [0, 1]\n",
    "        )\n",
    "\n",
    "    def forward(self,x):\n",
    "        x = self.fc1(x)\n",
    "        x = self.fc2(x)\n",
    "        x = self.fc3(x)\n",
    "        x = self.out(x) # dont use softamx if using cross entorpy loss function of pytorch \n",
    "        return x"
   ]
  },
  {
   "cell_type": "code",
   "execution_count": 639,
   "metadata": {},
   "outputs": [],
   "source": [
    "model = MNISTNet(num_inputs=NUM_INPUTS, num_classes=NUM_CLASSES).to(DEVICE)"
   ]
  },
  {
   "cell_type": "code",
   "execution_count": 640,
   "metadata": {},
   "outputs": [],
   "source": [
    "def compute_accuracy (model, data_loader, device):\n",
    "    model = model.to(device)\n",
    "    model = model.eval() # put the model to evaultion mode\n",
    "    \n",
    "    num_correct_prediction = 0\n",
    "    num_total_labels = 0\n",
    "    \n",
    "    with torch.no_grad():\n",
    "        \n",
    "        for i, (inputs, labels) in enumerate(data_loader):\n",
    "            inputs = inputs.to(device)\n",
    "            labels = labels.to(device)\n",
    "            \n",
    "            probabilities = model(inputs.to(DEVICE))\n",
    "            predicted_class = torch.argmax(probabilities, dim=1) # Class predicted by model\n",
    "            \n",
    "            num_total_labels += labels.size()[0]\n",
    "            num_correct_prediction += (predicted_class == labels).sum()\n",
    "\n",
    "    return num_correct_prediction/num_total_labels * 100"
   ]
  },
  {
   "attachments": {},
   "cell_type": "markdown",
   "metadata": {},
   "source": [
    "### 4) Test w/o Training"
   ]
  },
  {
   "cell_type": "code",
   "execution_count": 641,
   "metadata": {},
   "outputs": [
    {
     "data": {
      "image/png": "[encoded data removed]",
      "text/plain": [
       "<Figure size 640x480 with 1 Axes>"
      ]
     },
     "metadata": {},
     "output_type": "display_data"
    },
    {
     "name": "stdout",
     "output_type": "stream",
     "text": [
      "Predicted Num : 9\n",
      "Actual Num : 4\n",
      "\n",
      "Total Accuracy on test data : 9.630%\n"
     ]
    }
   ],
   "source": [
    "dataiter = iter(train_loader)\n",
    "images, labels = next(dataiter)\n",
    "\n",
    "img  = np.reshape(images[4],(28,28))\n",
    "plt.imshow(img, cmap='Greys')\n",
    "plt.show()\n",
    "\n",
    "model = model.eval()\n",
    "\n",
    "with torch.no_grad(): # Save Performance when evaluting or prediciting\n",
    "    probabilities = model(images.to(DEVICE))\n",
    "    predicted_class = torch.argmax(probabilities,dim=1)\n",
    "\n",
    "print(\"Predicted Num : {:d}\".format(predicted_class[4]))\n",
    "print(\"Actual Num : {:d}\".format(labels[4]))\n",
    "print(\"\\nTotal Accuracy on test data : {:.3f}%\".format(compute_accuracy(model,test_loader,DEVICE)))"
   ]
  },
  {
   "attachments": {},
   "cell_type": "markdown",
   "metadata": {},
   "source": [
    "### 5) Train Model"
   ]
  },
  {
   "cell_type": "code",
   "execution_count": 642,
   "metadata": {},
   "outputs": [],
   "source": [
    "def train_model (model, data_loader, learning_rate, num_epochs,weight_decay,momentum,device):\n",
    "    \n",
    "    optimizer = torch.optim.SGD(model.parameters(), lr=learning_rate, weight_decay = weight_decay,momentum=momentum)\n",
    "    \n",
    "    best_weights = copy.deepcopy(model.state_dict())\n",
    "    best_accuracy = 0\n",
    "    \n",
    "    start_time = time.time()\n",
    "    \n",
    "    for epoch in range(num_epochs):\n",
    "        \n",
    "        print(\"EPOCH : {0}/{1}\".format(epoch+1,num_epochs))\n",
    "        print(\"-\"*30)\n",
    "        \n",
    "        # train first\n",
    "        model.train()\n",
    "        for batch_index, (inputs, labels) in enumerate(data_loader):\n",
    "            inputs = inputs.to(device)\n",
    "            labels = labels.to(device)   \n",
    "             \n",
    "            probabilities = model(inputs)\n",
    "            \n",
    "            optimizer.zero_grad()\n",
    "            # Using NLL Loss instead of cross entorpy becuase it implements softmax, and our model uses softmax as the output layer\n",
    "            # Thus to avoid doble softmax I am using NLL loss\n",
    "            loss = nn.functional.nll_loss(torch.log(probabilities),labels)\n",
    "                \n",
    "            loss.backward()\n",
    "            optimizer.step()\n",
    "            \n",
    "            if (batch_index % 50 == 0) :\n",
    "                print(\"BATCH : {:3d}/{:3d} | LOSS : {:.3f} \".format(batch_index,len(data_loader),loss))\n",
    "        \n",
    "        # evalute\n",
    "        model.eval()\n",
    "        with torch.set_grad_enabled(False):\n",
    "            accuracy = compute_accuracy(model,data_loader,DEVICE)\n",
    "            print(\"\\nTotal Accuracy On Training Data : {:.3f}%\".format(accuracy))\n",
    "        \n",
    "        # Save best weights\n",
    "        if (accuracy > best_accuracy):\n",
    "            best_accuracy = accuracy\n",
    "            best_weights = copy.deepcopy(model.state_dict())\n",
    "        \n",
    "        print(\"Elapsed Time : {:.0f} min {:.0f} sec\\n\".format((time.time() - start_time)/60 , (time.time() - start_time)%60)) \n",
    "    \n",
    "    print(\"\\nTotal Time : {:.0f} min {:.0f} sec\".format((time.time() - start_time)/60 , (time.time() - start_time)%60))\n",
    "    \n",
    "    \n",
    "    model.load_state_dict(best_weights)\n",
    "    return model"
   ]
  },
  {
   "cell_type": "code",
   "execution_count": 643,
   "metadata": {},
   "outputs": [
    {
     "name": "stdout",
     "output_type": "stream",
     "text": [
      "EPOCH : 1/10\n",
      "------------------------------\n",
      "BATCH :   0/469 | LOSS : 2.310 \n",
      "BATCH :  50/469 | LOSS : 2.151 \n",
      "BATCH : 100/469 | LOSS : 1.290 \n",
      "BATCH : 150/469 | LOSS : 0.704 \n",
      "BATCH : 200/469 | LOSS : 0.506 \n",
      "BATCH : 250/469 | LOSS : 0.436 \n",
      "BATCH : 300/469 | LOSS : 0.342 \n",
      "BATCH : 350/469 | LOSS : 0.314 \n",
      "BATCH : 400/469 | LOSS : 0.392 \n",
      "BATCH : 450/469 | LOSS : 0.357 \n",
      "\n",
      "Total Accuracy On Training Data : 90.542%\n",
      "Elapsed Time : 0 min 11 sec\n",
      "\n",
      "EPOCH : 2/10\n",
      "------------------------------\n",
      "BATCH :   0/469 | LOSS : 0.396 \n",
      "BATCH :  50/469 | LOSS : 0.485 \n",
      "BATCH : 100/469 | LOSS : 0.395 \n",
      "BATCH : 150/469 | LOSS : 0.469 \n",
      "BATCH : 200/469 | LOSS : 0.375 \n",
      "BATCH : 250/469 | LOSS : 0.264 \n",
      "BATCH : 300/469 | LOSS : 0.313 \n",
      "BATCH : 350/469 | LOSS : 0.282 \n",
      "BATCH : 400/469 | LOSS : 0.305 \n",
      "BATCH : 450/469 | LOSS : 0.345 \n",
      "\n",
      "Total Accuracy On Training Data : 92.158%\n",
      "Elapsed Time : 0 min 22 sec\n",
      "\n",
      "EPOCH : 3/10\n",
      "------------------------------\n",
      "BATCH :   0/469 | LOSS : 0.244 \n",
      "BATCH :  50/469 | LOSS : 0.248 \n",
      "BATCH : 100/469 | LOSS : 0.246 \n",
      "BATCH : 150/469 | LOSS : 0.314 \n",
      "BATCH : 200/469 | LOSS : 0.271 \n",
      "BATCH : 250/469 | LOSS : 0.366 \n",
      "BATCH : 300/469 | LOSS : 0.336 \n",
      "BATCH : 350/469 | LOSS : 0.255 \n",
      "BATCH : 400/469 | LOSS : 0.214 \n",
      "BATCH : 450/469 | LOSS : 0.324 \n",
      "\n",
      "Total Accuracy On Training Data : 93.735%\n",
      "Elapsed Time : 1 min 33 sec\n",
      "\n",
      "EPOCH : 4/10\n",
      "------------------------------\n",
      "BATCH :   0/469 | LOSS : 0.335 \n",
      "BATCH :  50/469 | LOSS : 0.210 \n",
      "BATCH : 100/469 | LOSS : 0.199 \n",
      "BATCH : 150/469 | LOSS : 0.238 \n",
      "BATCH : 200/469 | LOSS : 0.182 \n",
      "BATCH : 250/469 | LOSS : 0.318 \n",
      "BATCH : 300/469 | LOSS : 0.219 \n",
      "BATCH : 350/469 | LOSS : 0.213 \n",
      "BATCH : 400/469 | LOSS : 0.281 \n",
      "BATCH : 450/469 | LOSS : 0.210 \n",
      "\n",
      "Total Accuracy On Training Data : 94.388%\n",
      "Elapsed Time : 1 min 44 sec\n",
      "\n",
      "EPOCH : 5/10\n",
      "------------------------------\n",
      "BATCH :   0/469 | LOSS : 0.224 \n",
      "BATCH :  50/469 | LOSS : 0.184 \n",
      "BATCH : 100/469 | LOSS : 0.126 \n",
      "BATCH : 150/469 | LOSS : 0.294 \n",
      "BATCH : 200/469 | LOSS : 0.111 \n",
      "BATCH : 250/469 | LOSS : 0.284 \n",
      "BATCH : 300/469 | LOSS : 0.109 \n",
      "BATCH : 350/469 | LOSS : 0.187 \n",
      "BATCH : 400/469 | LOSS : 0.138 \n",
      "BATCH : 450/469 | LOSS : 0.190 \n",
      "\n",
      "Total Accuracy On Training Data : 95.077%\n",
      "Elapsed Time : 1 min 55 sec\n",
      "\n",
      "EPOCH : 6/10\n",
      "------------------------------\n",
      "BATCH :   0/469 | LOSS : 0.246 \n",
      "BATCH :  50/469 | LOSS : 0.189 \n",
      "BATCH : 100/469 | LOSS : 0.169 \n",
      "BATCH : 150/469 | LOSS : 0.276 \n",
      "BATCH : 200/469 | LOSS : 0.194 \n",
      "BATCH : 250/469 | LOSS : 0.120 \n",
      "BATCH : 300/469 | LOSS : 0.229 \n",
      "BATCH : 350/469 | LOSS : 0.108 \n",
      "BATCH : 400/469 | LOSS : 0.181 \n",
      "BATCH : 450/469 | LOSS : 0.156 \n",
      "\n",
      "Total Accuracy On Training Data : 95.528%\n",
      "Elapsed Time : 1 min 6 sec\n",
      "\n",
      "EPOCH : 7/10\n",
      "------------------------------\n",
      "BATCH :   0/469 | LOSS : 0.226 \n",
      "BATCH :  50/469 | LOSS : 0.156 \n",
      "BATCH : 100/469 | LOSS : 0.203 \n",
      "BATCH : 150/469 | LOSS : 0.148 \n",
      "BATCH : 200/469 | LOSS : 0.264 \n",
      "BATCH : 250/469 | LOSS : 0.107 \n",
      "BATCH : 300/469 | LOSS : 0.196 \n",
      "BATCH : 350/469 | LOSS : 0.132 \n",
      "BATCH : 400/469 | LOSS : 0.176 \n",
      "BATCH : 450/469 | LOSS : 0.306 \n",
      "\n",
      "Total Accuracy On Training Data : 96.028%\n",
      "Elapsed Time : 1 min 17 sec\n",
      "\n",
      "EPOCH : 8/10\n",
      "------------------------------\n",
      "BATCH :   0/469 | LOSS : 0.118 \n",
      "BATCH :  50/469 | LOSS : 0.149 \n",
      "BATCH : 100/469 | LOSS : 0.150 \n",
      "BATCH : 150/469 | LOSS : 0.185 \n",
      "BATCH : 200/469 | LOSS : 0.234 \n",
      "BATCH : 250/469 | LOSS : 0.099 \n",
      "BATCH : 300/469 | LOSS : 0.126 \n",
      "BATCH : 350/469 | LOSS : 0.088 \n",
      "BATCH : 400/469 | LOSS : 0.132 \n",
      "BATCH : 450/469 | LOSS : 0.157 \n",
      "\n",
      "Total Accuracy On Training Data : 96.003%\n",
      "Elapsed Time : 1 min 28 sec\n",
      "\n",
      "EPOCH : 9/10\n",
      "------------------------------\n",
      "BATCH :   0/469 | LOSS : 0.164 \n",
      "BATCH :  50/469 | LOSS : 0.148 \n",
      "BATCH : 100/469 | LOSS : 0.134 \n",
      "BATCH : 150/469 | LOSS : 0.136 \n",
      "BATCH : 200/469 | LOSS : 0.176 \n",
      "BATCH : 250/469 | LOSS : 0.111 \n",
      "BATCH : 300/469 | LOSS : 0.126 \n",
      "BATCH : 350/469 | LOSS : 0.217 \n",
      "BATCH : 400/469 | LOSS : 0.087 \n",
      "BATCH : 450/469 | LOSS : 0.160 \n",
      "\n",
      "Total Accuracy On Training Data : 96.207%\n",
      "Elapsed Time : 2 min 39 sec\n",
      "\n",
      "EPOCH : 10/10\n",
      "------------------------------\n",
      "BATCH :   0/469 | LOSS : 0.141 \n",
      "BATCH :  50/469 | LOSS : 0.115 \n",
      "BATCH : 100/469 | LOSS : 0.114 \n",
      "BATCH : 150/469 | LOSS : 0.146 \n",
      "BATCH : 200/469 | LOSS : 0.167 \n",
      "BATCH : 250/469 | LOSS : 0.124 \n",
      "BATCH : 300/469 | LOSS : 0.122 \n",
      "BATCH : 350/469 | LOSS : 0.160 \n",
      "BATCH : 400/469 | LOSS : 0.139 \n",
      "BATCH : 450/469 | LOSS : 0.122 \n",
      "\n",
      "Total Accuracy On Training Data : 96.378%\n",
      "Elapsed Time : 2 min 50 sec\n",
      "\n",
      "\n",
      "Total Time : 2 min 50 sec\n"
     ]
    }
   ],
   "source": [
    "model = train_model(model,train_loader,LEARNING_RATE,NUM_EPOCHS,WEIGHT_DECAY,MOMENTUM,DEVICE)"
   ]
  },
  {
   "attachments": {},
   "cell_type": "markdown",
   "metadata": {},
   "source": [
    "### 4) Test w/ Training"
   ]
  },
  {
   "cell_type": "code",
   "execution_count": 644,
   "metadata": {},
   "outputs": [
    {
     "data": {
      "image/png": "[encoded data removed]",
      "text/plain": [
       "<Figure size 640x480 with 1 Axes>"
      ]
     },
     "metadata": {},
     "output_type": "display_data"
    },
    {
     "name": "stdout",
     "output_type": "stream",
     "text": [
      "Predicted Num : 6\n",
      "Actual Num : 6\n",
      "\n",
      "Total Accuracy on test data : 96.080%\n"
     ]
    }
   ],
   "source": [
    "dataiter = iter(train_loader)\n",
    "images, labels = next(dataiter)\n",
    "\n",
    "img  = np.reshape(images[4],(28,28))\n",
    "plt.imshow(img, cmap='Greys')\n",
    "plt.show()\n",
    "\n",
    "model = model.eval()\n",
    "\n",
    "with torch.no_grad(): # Save Performance when evaluting or prediciting\n",
    "    probabilities = model(images.to(DEVICE))\n",
    "    predicted_class = torch.argmax(probabilities,dim=1)\n",
    "\n",
    "print(\"Predicted Num : {:d}\".format(predicted_class[4]))\n",
    "print(\"Actual Num : {:d}\".format(labels[4]))\n",
    "print(\"\\nTotal Accuracy on test data : {:.3f}%\".format(compute_accuracy(model,test_loader,DEVICE)))"
   ]
  }
 ],
 "metadata": {
  "kernelspec": {
   "display_name": "ComputerVision",
   "language": "python",
   "name": "python3"
  },
  "language_info": {
   "codemirror_mode": {
    "name": "ipython",
    "version": 3
   },
   "file_extension": ".py",
   "mimetype": "text/x-python",
   "name": "python",
   "nbconvert_exporter": "python",
   "pygments_lexer": "ipython3",
   "version": "3.9.16"
  },
  "orig_nbformat": 4,
  "vscode": {
   "interpreter": {
    "hash": "2531915ab5b6d7f6e073a1b4ef06ed0b2b780c8145dd924165dc427f5e6c9cf0"
   }
  }
 },
 "nbformat": 4,
 "nbformat_minor": 2
}
