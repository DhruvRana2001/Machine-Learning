{
 "cells": [
  {
   "attachments": {},
   "cell_type": "markdown",
   "metadata": {},
   "source": [
    "## Part1"
   ]
  },
  {
   "cell_type": "code",
   "execution_count": 1,
   "metadata": {},
   "outputs": [],
   "source": [
    "import numpy as np\n",
    "import pandas as pd\n",
    "import math\n",
    "\n",
    "classA = np.array([[\"A\",0,1,0],[\"A\",0,1,1],[\"A\",1,2,1],[\"A\",1,2,0]])\n",
    "classB = np.array([[\"B\",1,2,2],[\"B\",2,2,2],[\"B\",1,2,-1],[\"B\",2,2,3]])\n",
    "classC = np.array([[\"C\",-1,-1,-1],[\"C\",0,-1,-2],[\"C\",0,-1,1],[\"C\",-1,-2,1]])"
   ]
  },
  {
   "cell_type": "code",
   "execution_count": 2,
   "metadata": {},
   "outputs": [
    {
     "data": {
      "text/html": [
       "<div>\n",
       "<style scoped>\n",
       "    .dataframe tbody tr th:only-of-type {\n",
       "        vertical-align: middle;\n",
       "    }\n",
       "\n",
       "    .dataframe tbody tr th {\n",
       "        vertical-align: top;\n",
       "    }\n",
       "\n",
       "    .dataframe thead th {\n",
       "        text-align: right;\n",
       "    }\n",
       "</style>\n",
       "<table border=\"1\" class=\"dataframe\">\n",
       "  <thead>\n",
       "    <tr style=\"text-align: right;\">\n",
       "      <th></th>\n",
       "      <th>class</th>\n",
       "      <th>x</th>\n",
       "      <th>y</th>\n",
       "      <th>z</th>\n",
       "    </tr>\n",
       "  </thead>\n",
       "  <tbody>\n",
       "    <tr>\n",
       "      <th>0</th>\n",
       "      <td>A</td>\n",
       "      <td>0</td>\n",
       "      <td>1</td>\n",
       "      <td>0</td>\n",
       "    </tr>\n",
       "    <tr>\n",
       "      <th>1</th>\n",
       "      <td>A</td>\n",
       "      <td>0</td>\n",
       "      <td>1</td>\n",
       "      <td>1</td>\n",
       "    </tr>\n",
       "    <tr>\n",
       "      <th>2</th>\n",
       "      <td>A</td>\n",
       "      <td>1</td>\n",
       "      <td>2</td>\n",
       "      <td>1</td>\n",
       "    </tr>\n",
       "    <tr>\n",
       "      <th>3</th>\n",
       "      <td>A</td>\n",
       "      <td>1</td>\n",
       "      <td>2</td>\n",
       "      <td>0</td>\n",
       "    </tr>\n",
       "    <tr>\n",
       "      <th>4</th>\n",
       "      <td>B</td>\n",
       "      <td>1</td>\n",
       "      <td>2</td>\n",
       "      <td>2</td>\n",
       "    </tr>\n",
       "    <tr>\n",
       "      <th>5</th>\n",
       "      <td>B</td>\n",
       "      <td>2</td>\n",
       "      <td>2</td>\n",
       "      <td>2</td>\n",
       "    </tr>\n",
       "    <tr>\n",
       "      <th>6</th>\n",
       "      <td>B</td>\n",
       "      <td>1</td>\n",
       "      <td>2</td>\n",
       "      <td>-1</td>\n",
       "    </tr>\n",
       "    <tr>\n",
       "      <th>7</th>\n",
       "      <td>B</td>\n",
       "      <td>2</td>\n",
       "      <td>2</td>\n",
       "      <td>3</td>\n",
       "    </tr>\n",
       "    <tr>\n",
       "      <th>8</th>\n",
       "      <td>C</td>\n",
       "      <td>-1</td>\n",
       "      <td>-1</td>\n",
       "      <td>-1</td>\n",
       "    </tr>\n",
       "    <tr>\n",
       "      <th>9</th>\n",
       "      <td>C</td>\n",
       "      <td>0</td>\n",
       "      <td>-1</td>\n",
       "      <td>-2</td>\n",
       "    </tr>\n",
       "    <tr>\n",
       "      <th>10</th>\n",
       "      <td>C</td>\n",
       "      <td>0</td>\n",
       "      <td>-1</td>\n",
       "      <td>1</td>\n",
       "    </tr>\n",
       "    <tr>\n",
       "      <th>11</th>\n",
       "      <td>C</td>\n",
       "      <td>-1</td>\n",
       "      <td>-2</td>\n",
       "      <td>1</td>\n",
       "    </tr>\n",
       "  </tbody>\n",
       "</table>\n",
       "</div>"
      ],
      "text/plain": [
       "   class   x   y   z\n",
       "0      A   0   1   0\n",
       "1      A   0   1   1\n",
       "2      A   1   2   1\n",
       "3      A   1   2   0\n",
       "4      B   1   2   2\n",
       "5      B   2   2   2\n",
       "6      B   1   2  -1\n",
       "7      B   2   2   3\n",
       "8      C  -1  -1  -1\n",
       "9      C   0  -1  -2\n",
       "10     C   0  -1   1\n",
       "11     C  -1  -2   1"
      ]
     },
     "execution_count": 2,
     "metadata": {},
     "output_type": "execute_result"
    }
   ],
   "source": [
    "data_df = pd.DataFrame(np.vstack([classA,classB,classC]),columns=[\"class\",'x','y','z'])\n",
    "data_df"
   ]
  },
  {
   "cell_type": "code",
   "execution_count": 3,
   "metadata": {},
   "outputs": [],
   "source": [
    "def distance (feature,sample): ## can be used to cahnge the distance formula used (Using L2 norm or  Euclidean distance)\n",
    "    return np.linalg.norm(feature-sample,ord=2)\n",
    "\n",
    "########## K-Nearest Neighbour ####################\n",
    "def K_NN(X, k , df : pd.DataFrame):\n",
    "    \n",
    "    distances = np.zeros((len(df),1))\n",
    "    features = df[[\"x\",\"y\",\"z\"]].to_numpy()\n",
    "    \n",
    "    for i in range(len(df)):\n",
    "        feature = [int(str) for str in features[i]]\n",
    "        distances[i] = distance(feature,X)\n",
    "        print(\"Distance between {0} and {1} is {2}\".format(feature,X,distance(feature,X)))\n",
    "    \n",
    "    K_nearest_label = data_df[\"class\"].iloc[np.argsort(distances,axis=0)[0:k].squeeze(axis=1)]\n",
    "\n",
    "    print(\"\\nThe {0} closest neighbour(s) have the label : {1} \".format(k,K_nearest_label.to_numpy()))\n",
    "    \n",
    "    most_frequnet_label = K_nearest_label.mode().to_numpy()[0] \n",
    "\n",
    "    if(len(most_frequnet_label) != 1): # resolve ties\n",
    "        most_frequnet_label = most_frequnet_label[math.floor(np.random.randint(low=0,high=len(most_frequnet_label)))]\n",
    "    \n",
    "    print(\"The sample {0} is of class : {1}\".format(X,most_frequnet_label) )"
   ]
  },
  {
   "cell_type": "code",
   "execution_count": 4,
   "metadata": {},
   "outputs": [
    {
     "name": "stdout",
     "output_type": "stream",
     "text": [
      "Distance between [0, 1, 0] and [1 0 1] is 1.7320508075688772\n",
      "Distance between [0, 1, 1] and [1 0 1] is 1.4142135623730951\n",
      "Distance between [1, 2, 1] and [1 0 1] is 2.0\n",
      "Distance between [1, 2, 0] and [1 0 1] is 2.23606797749979\n",
      "Distance between [1, 2, 2] and [1 0 1] is 2.23606797749979\n",
      "Distance between [2, 2, 2] and [1 0 1] is 2.449489742783178\n",
      "Distance between [1, 2, -1] and [1 0 1] is 2.8284271247461903\n",
      "Distance between [2, 2, 3] and [1 0 1] is 3.0\n",
      "Distance between [-1, -1, -1] and [1 0 1] is 3.0\n",
      "Distance between [0, -1, -2] and [1 0 1] is 3.3166247903554\n",
      "Distance between [0, -1, 1] and [1 0 1] is 1.4142135623730951\n",
      "Distance between [-1, -2, 1] and [1 0 1] is 2.8284271247461903\n",
      "\n",
      "The 1 closest neighbour(s) have the label : ['A'] \n",
      "The sample [1 0 1] is of class : A\n"
     ]
    }
   ],
   "source": [
    "sample = np.array([1,0,1])\n",
    "K_NN(sample,k=1,df=data_df)"
   ]
  },
  {
   "cell_type": "code",
   "execution_count": 5,
   "metadata": {},
   "outputs": [
    {
     "name": "stdout",
     "output_type": "stream",
     "text": [
      "Distance between [0, 1, 0] and [1 0 1] is 1.7320508075688772\n",
      "Distance between [0, 1, 1] and [1 0 1] is 1.4142135623730951\n",
      "Distance between [1, 2, 1] and [1 0 1] is 2.0\n",
      "Distance between [1, 2, 0] and [1 0 1] is 2.23606797749979\n",
      "Distance between [1, 2, 2] and [1 0 1] is 2.23606797749979\n",
      "Distance between [2, 2, 2] and [1 0 1] is 2.449489742783178\n",
      "Distance between [1, 2, -1] and [1 0 1] is 2.8284271247461903\n",
      "Distance between [2, 2, 3] and [1 0 1] is 3.0\n",
      "Distance between [-1, -1, -1] and [1 0 1] is 3.0\n",
      "Distance between [0, -1, -2] and [1 0 1] is 3.3166247903554\n",
      "Distance between [0, -1, 1] and [1 0 1] is 1.4142135623730951\n",
      "Distance between [-1, -2, 1] and [1 0 1] is 2.8284271247461903\n",
      "\n",
      "The 2 closest neighbour(s) have the label : ['A' 'C'] \n",
      "The sample [1 0 1] is of class : A\n"
     ]
    }
   ],
   "source": [
    "K_NN(sample,k=2,df=data_df)"
   ]
  },
  {
   "cell_type": "code",
   "execution_count": 6,
   "metadata": {},
   "outputs": [
    {
     "name": "stdout",
     "output_type": "stream",
     "text": [
      "Distance between [0, 1, 0] and [1 0 1] is 1.7320508075688772\n",
      "Distance between [0, 1, 1] and [1 0 1] is 1.4142135623730951\n",
      "Distance between [1, 2, 1] and [1 0 1] is 2.0\n",
      "Distance between [1, 2, 0] and [1 0 1] is 2.23606797749979\n",
      "Distance between [1, 2, 2] and [1 0 1] is 2.23606797749979\n",
      "Distance between [2, 2, 2] and [1 0 1] is 2.449489742783178\n",
      "Distance between [1, 2, -1] and [1 0 1] is 2.8284271247461903\n",
      "Distance between [2, 2, 3] and [1 0 1] is 3.0\n",
      "Distance between [-1, -1, -1] and [1 0 1] is 3.0\n",
      "Distance between [0, -1, -2] and [1 0 1] is 3.3166247903554\n",
      "Distance between [0, -1, 1] and [1 0 1] is 1.4142135623730951\n",
      "Distance between [-1, -2, 1] and [1 0 1] is 2.8284271247461903\n",
      "\n",
      "The 3 closest neighbour(s) have the label : ['A' 'C' 'A'] \n",
      "The sample [1 0 1] is of class : A\n"
     ]
    }
   ],
   "source": [
    "K_NN(sample,k=3,df=data_df)"
   ]
  },
  {
   "attachments": {},
   "cell_type": "markdown",
   "metadata": {},
   "source": [
    "## Part 2"
   ]
  },
  {
   "cell_type": "code",
   "execution_count": 7,
   "metadata": {},
   "outputs": [],
   "source": [
    "import numpy as np\n",
    "import matplotlib as mpl\n",
    "import matplotlib.pyplot as plt\n",
    "%matplotlib inline"
   ]
  },
  {
   "cell_type": "code",
   "execution_count": 8,
   "metadata": {},
   "outputs": [],
   "source": [
    "# load mini training data and labels\n",
    "mini_train = np.load('knn_minitrain.npy')\n",
    "mini_train_label = np.load('knn_minitrain_label.npy')\n",
    "\n",
    "# randomly generate test data\n",
    "mini_test = np.random.randint(20, size=20)\n",
    "mini_test = mini_test.reshape(10,2)"
   ]
  },
  {
   "cell_type": "code",
   "execution_count": 9,
   "metadata": {},
   "outputs": [
    {
     "name": "stdout",
     "output_type": "stream",
     "text": [
      "random test points are:\n",
      " [[19 17]\n",
      " [ 1  9]\n",
      " [ 4  5]\n",
      " [ 7  5]\n",
      " [16  3]\n",
      " [11 11]\n",
      " [15  7]\n",
      " [12  3]\n",
      " [ 1 11]\n",
      " [13 12]]\n",
      "knn classfied labels for test: [1, 2, 2, 2, 3, 1, 3, 3, 0, 1]\n"
     ]
    }
   ],
   "source": [
    "# Define knn classifier\n",
    "def kNNClassify(newInput, dataSet, labels, k):\n",
    "    result=[]\n",
    "\n",
    "    for i in range(len(newInput)):\n",
    "        distance = np.zeros(len(dataSet))\n",
    "\n",
    "        for j in range(len(dataSet)):\n",
    "            distance[j] = np.linalg.norm(dataSet[j]-newInput[i],ord=2)\n",
    "\n",
    "        nearestLabels = labels[np.argsort(distance)[:k]]\n",
    "        result.append(np.bincount(nearestLabels).argmax())\n",
    "\n",
    "    return result\n",
    "\n",
    "outputlabels=kNNClassify(mini_test,mini_train,mini_train_label,4)\n",
    "\n",
    "print ('random test points are:\\n', mini_test)\n",
    "print ('knn classfied labels for test:', outputlabels)"
   ]
  },
  {
   "cell_type": "code",
   "execution_count": 10,
   "metadata": {},
   "outputs": [
    {
     "data": {
      "image/png": "[encoded data removed]",
      "text/plain": [
       "<Figure size 640x480 with 1 Axes>"
      ]
     },
     "metadata": {},
     "output_type": "display_data"
    },
    {
     "data": {
      "text/plain": [
       "<Figure size 640x480 with 0 Axes>"
      ]
     },
     "metadata": {},
     "output_type": "display_data"
    }
   ],
   "source": [
    "# plot train data and classfied test data\n",
    "train_x = mini_train[:,0]\n",
    "train_y = mini_train[:,1]\n",
    "fig = plt.figure()\n",
    "plt.scatter(train_x[np.where(mini_train_label==0)], train_y[np.where(mini_train_label==0)], color='red')\n",
    "plt.scatter(train_x[np.where(mini_train_label==1)], train_y[np.where(mini_train_label==1)], color='blue')\n",
    "plt.scatter(train_x[np.where(mini_train_label==2)], train_y[np.where(mini_train_label==2)], color='yellow')\n",
    "plt.scatter(train_x[np.where(mini_train_label==3)], train_y[np.where(mini_train_label==3)], color='black')\n",
    "\n",
    "test_x = mini_test[:,0]\n",
    "test_y = mini_test[:,1]\n",
    "outputlabels = np.array(outputlabels)\n",
    "plt.scatter(test_x[np.where(outputlabels==0)], test_y[np.where(outputlabels==0)], marker='^', color='red')\n",
    "plt.scatter(test_x[np.where(outputlabels==1)], test_y[np.where(outputlabels==1)], marker='^', color='blue')\n",
    "plt.scatter(test_x[np.where(outputlabels==2)], test_y[np.where(outputlabels==2)], marker='^', color='yellow')\n",
    "plt.scatter(test_x[np.where(outputlabels==3)], test_y[np.where(outputlabels==3)], marker='^', color='black')\n",
    "\n",
    "plt.show()\n",
    "#save diagram as png file\n",
    "plt.savefig(\"miniknn.png\")"
   ]
  },
  {
   "attachments": {},
   "cell_type": "markdown",
   "metadata": {},
   "source": [
    "## Download MNIST"
   ]
  },
  {
   "cell_type": "code",
   "execution_count": 11,
   "metadata": {},
   "outputs": [
    {
     "name": "stdout",
     "output_type": "stream",
     "text": [
      "Downloading train-images-idx3-ubyte.gz...\n",
      "Downloading t10k-images-idx3-ubyte.gz...\n",
      "Downloading train-labels-idx1-ubyte.gz...\n",
      "Downloading t10k-labels-idx1-ubyte.gz...\n",
      "Download complete.\n",
      "Save complete.\n"
     ]
    }
   ],
   "source": [
    "import numpy as np\n",
    "from urllib import request\n",
    "import gzip\n",
    "import pickle\n",
    "\n",
    "filename = [\n",
    "[\"training_images\",\"train-images-idx3-ubyte.gz\"],\n",
    "[\"test_images\",\"t10k-images-idx3-ubyte.gz\"],\n",
    "[\"training_labels\",\"train-labels-idx1-ubyte.gz\"],\n",
    "[\"test_labels\",\"t10k-labels-idx1-ubyte.gz\"]\n",
    "]\n",
    "\n",
    "def download_mnist():\n",
    "    base_url = \"http://yann.lecun.com/exdb/mnist/\"\n",
    "    for name in filename:\n",
    "        print(\"Downloading \"+name[1]+\"...\")\n",
    "        request.urlretrieve(base_url+name[1], name[1])\n",
    "    print(\"Download complete.\")\n",
    "\n",
    "def save_mnist():\n",
    "    mnist = {}\n",
    "    for name in filename[:2]:\n",
    "        with gzip.open(name[1], 'rb') as f:\n",
    "            mnist[name[0]] = np.frombuffer(f.read(), np.uint8, offset=16).reshape(-1,28*28)\n",
    "    for name in filename[-2:]:\n",
    "        with gzip.open(name[1], 'rb') as f:\n",
    "            mnist[name[0]] = np.frombuffer(f.read(), np.uint8, offset=8)\n",
    "    with open(\"mnist.pkl\", 'wb') as f:\n",
    "        pickle.dump(mnist,f)\n",
    "    print(\"Save complete.\")\n",
    "\n",
    "def init():\n",
    "    download_mnist()\n",
    "    save_mnist()\n",
    "#    print ((load()[0]).shape)\n",
    "def load():\n",
    "    with open(\"mnist.pkl\",'rb') as f:\n",
    "        mnist = pickle.load(f)\n",
    "    return mnist[\"training_images\"], mnist[\"training_labels\"], mnist[\"test_images\"], mnist[\"test_labels\"]\n",
    "\n",
    "if __name__ == '__main__':\n",
    "    init()\n"
   ]
  },
  {
   "attachments": {},
   "cell_type": "markdown",
   "metadata": {},
   "source": [
    "# Part 3"
   ]
  },
  {
   "cell_type": "code",
   "execution_count": 12,
   "metadata": {},
   "outputs": [],
   "source": [
    "import math\n",
    "import numpy as np  \n",
    "from download_mnist import load\n",
    "import operator  \n",
    "import time"
   ]
  },
  {
   "cell_type": "code",
   "execution_count": 13,
   "metadata": {},
   "outputs": [],
   "source": [
    "# classify using kNN  \n",
    "#x_train = np.load('../x_train.npy')\n",
    "#y_train = np.load('../y_train.npy')\n",
    "#x_test = np.load('../x_test.npy')\n",
    "#y_test = np.load('../y_test.npy')\n",
    "x_train, y_train, x_test, y_test = load()\n",
    "x_train = x_train.reshape(60000,28,28)\n",
    "x_test  = x_test.reshape(10000,28,28)\n",
    "x_train = x_train.astype(float)\n",
    "x_test = x_test.astype(float)"
   ]
  },
  {
   "cell_type": "code",
   "execution_count": 14,
   "metadata": {},
   "outputs": [],
   "source": [
    "def kNNClassify(newInput, dataSet, labels, k): \n",
    "    result=[]\n",
    "    \n",
    "    for i in range(len(newInput)):\n",
    "        distance = np.zeros(len(dataSet))\n",
    "\n",
    "        for j in range(len(dataSet)):\n",
    "            distance[j] = np.linalg.norm(dataSet[j]-newInput[i],ord=2)\n",
    "\n",
    "        nearestLabels = labels[np.argsort(distance)[:k]]\n",
    "        result.append(np.bincount(nearestLabels).argmax())\n",
    "\n",
    "    return result"
   ]
  },
  {
   "cell_type": "code",
   "execution_count": 15,
   "metadata": {},
   "outputs": [
    {
     "name": "stdout",
     "output_type": "stream",
     "text": [
      "---classification accuracy for knn on mnist: 1.0 ---\n",
      "---execution time: 43.49262189865112 seconds ---\n"
     ]
    }
   ],
   "source": [
    "start_time = time.time()\n",
    "outputlabels=kNNClassify(x_test[0:20],x_train,y_train,10)\n",
    "result = y_test[0:20] - outputlabels\n",
    "result = (1 - np.count_nonzero(result)/len(outputlabels))\n",
    "print (\"---classification accuracy for knn on mnist: %s ---\" %result)\n",
    "print (\"---execution time: %s seconds ---\" % (time.time() - start_time))"
   ]
  }
 ],
 "metadata": {
  "kernelspec": {
   "display_name": "DeepLearning",
   "language": "python",
   "name": "python3"
  },
  "language_info": {
   "codemirror_mode": {
    "name": "ipython",
    "version": 3
   },
   "file_extension": ".py",
   "mimetype": "text/x-python",
   "name": "python",
   "nbconvert_exporter": "python",
   "pygments_lexer": "ipython3",
   "version": "3.9.16"
  },
  "orig_nbformat": 4,
  "vscode": {
   "interpreter": {
    "hash": "2e6aee94b6e237213d6684ca717fd232fa7c38f294a79389ea4cd3d1c851866b"
   }
  }
 },
 "nbformat": 4,
 "nbformat_minor": 2
}
