{
 "cells": [
  {
   "attachments": {},
   "cell_type": "markdown",
   "metadata": {},
   "source": [
    "# Question 1"
   ]
  },
  {
   "attachments": {},
   "cell_type": "markdown",
   "metadata": {},
   "source": [
    "### a)"
   ]
  },
  {
   "attachments": {},
   "cell_type": "markdown",
   "metadata": {},
   "source": [
    "$x_1 = \\dfrac{1}{6} $\\\n",
    "$w_1 = \\pi $\\\n",
    "$x_2 = \\dfrac{1}{2} $\\\n",
    "$w_2 = \\pi $"
   ]
  },
  {
   "attachments": {},
   "cell_type": "markdown",
   "metadata": {},
   "source": [
    "$f = \\dfrac{1}{\\sin^2\\left(w_1x_1\\right)+\\cos\\left(w_2x_2\\right)+2}$"
   ]
  },
  {
   "attachments": {},
   "cell_type": "markdown",
   "metadata": {},
   "source": [
    "$\\dfrac{df}{dW_1} = -\\dfrac{2x_1\\cos\\left(x_1w_1\\right)\\sin\\left(x_1w_1\\right)}{\\left(\\sin^2\\left(x_1w_1\\right)+\\cos\\left(w_2x_2\\right)+2\\right)^2} = -0.0285$\n",
    "\n",
    "$\\dfrac{df}{dx_1} = -\\dfrac{2w_1\\cos\\left(w_1x_1\\right)\\sin\\left(w_1x_1\\right)}{\\left(\\sin^2\\left(w_1x_1\\right)+\\cos\\left(w_2x_2\\right)+2\\right)^2} = -0.537$\n",
    "\n",
    "\n",
    "$\\dfrac{df}{dW_2} = \\dfrac{x_2\\sin\\left(x_2w_2\\right)}{\\left(\\cos\\left(x_2w_2\\right)+\\sin^2\\left(w_1x_1\\right)+2\\right)^2} = -0.09876$\n",
    "\n",
    "$\\dfrac{df}{dx_2} = \\dfrac{w_2\\sin\\left(w_2x_2\\right)}{\\left(\\cos\\left(w_2x_2\\right)+\\sin^2\\left(w_1x_1\\right)+2\\right)^2} = -0.6205$\n"
   ]
  },
  {
   "attachments": {},
   "cell_type": "markdown",
   "metadata": {},
   "source": [
    "### b)"
   ]
  },
  {
   "cell_type": "code",
   "execution_count": 201,
   "metadata": {},
   "outputs": [],
   "source": [
    "import math"
   ]
  },
  {
   "cell_type": "code",
   "execution_count": 202,
   "metadata": {},
   "outputs": [],
   "source": [
    "class ScalarNetwork ():\n",
    "    def __init__(self,x1,w1,x2,w2):\n",
    "        self.x1 = x1\n",
    "        self.w1 = w1\n",
    "        self.x2 = x2\n",
    "        self.w2 = w2\n",
    "    \n",
    "    def fn_mul(self,x, w):\n",
    "        return x*w\n",
    "    \n",
    "    def fn_sin2(self,x):\n",
    "        return math.sin(x)**2\n",
    "    \n",
    "    def fn_cos(self,x):\n",
    "        return math.cos(x)\n",
    "    \n",
    "    def fn_add(self,x,y):\n",
    "        return x+y\n",
    "    \n",
    "    def fn_inv(self,x):\n",
    "        return 1/x\n",
    "    \n",
    "    def diffp(self,fn, idx, *args): # partial direvative\n",
    "        delta = 0.000000000001\n",
    "        \n",
    "        # Call the underlying function with args as such\n",
    "        y = fn(*args)\n",
    "        \n",
    "        # Now, increase only one input - at idx.\n",
    "        args = list(args)\n",
    "        args[idx] += delta\n",
    "        \n",
    "        # Now, calulate the output after changing one of the inputs a little bit.\n",
    "        y1 = fn(*args)\n",
    "        return (y1 - y)/delta\n",
    "\n",
    "    def forward(self):\n",
    "        self.d = self.fn_mul(self.x1,self.w1) # d = x1*W1\n",
    "        print(\"d = \",self.d)\n",
    "        \n",
    "        self.e = self.fn_mul(self.x2,self.w2) # e = x2*W2\n",
    "        print(\"e = \",self.e)\n",
    "\n",
    "        self.b = self.fn_sin2(self.d) # b = sin^2(d)\n",
    "        print(\"b = \",self.b)\n",
    "\n",
    "        self.c = self.fn_cos(self.e) # c = cos(e)\n",
    "        print(\"c = \",self.c , \" (aprrox. = 0)\")\n",
    "\n",
    "        self.a = self.fn_add(self.b , self.c) # a = b + c\n",
    "        print(\"a = \",self.a)\n",
    "\n",
    "        self.x = self.fn_add(self.a , 2) # x = a + 2\n",
    "        print(\"x = \",self.x)\n",
    "\n",
    "        self.output = self.fn_inv(self.x) # f = 1/x\n",
    "        print(\"f or y = \", self.output)\n",
    "    \n",
    "    def backprop(self): # using numerical direviate, since we know the exact direviate trough chain rule ans. in (a)\n",
    "\n",
    "        self.df = 1 # df/df = 1\n",
    "        print(\"df = \",self.df)\n",
    "\n",
    "        self.dx = self.df * self.diffp(self.fn_inv,0,self.x) # df/dx = df/df * df/dx \n",
    "        print(\"dx = \",self.dx)\n",
    "\n",
    "        self.da = self.dx * self.diffp(self.fn_add,0,self.a,2) # df/da = df/dx * dx/da \n",
    "        print(\"da = \",self.dx)\n",
    "\n",
    "        self.db = self.da * self.diffp(self.fn_add,0,self.b,self.c) # df/db = df/da * da/db \n",
    "        print(\"da = \",self.db)\n",
    "\n",
    "        self.dc = self.da * self.diffp(self.fn_add,1,self.b,self.c) # df/dc = df/da * da/dc\n",
    "        print(\"dc = \",self.dc)\n",
    "\n",
    "        self.dd = self.db * self.diffp(self.fn_sin2,0,self.d) # df/dd = df/db * db/dd \n",
    "        print(\"dd = \",self.dd)\n",
    "\n",
    "        self.de = self.dc * self.diffp(self.fn_cos,0,self.e) # df/de = df/dc * dc/de \n",
    "        print(\"de = \",self.de)\n",
    "\n",
    "        self.dW1 = self.dd * self.diffp(self.fn_mul,1,self.x1,self.w1) # df/dW1 = df/dd * dd/dW1 \n",
    "        print(\"\\ndW1 = \",self.dW1)\n",
    "\n",
    "        self.dx1 = self.dd * self.diffp(self.fn_mul,0,self.x1,self.w1) # df/dx1 = df/dd * dd/dx1 \n",
    "        print(\"dx1 = \",self.dx1)\n",
    "\n",
    "        self.dW2 = self.de * self.diffp(self.fn_mul,1,self.x2,self.w2) # df/dW1 = df/dd * dd/dW1 \n",
    "        print(\"\\ndW1 = \",self.dW2)\n",
    "        \n",
    "        self.dx2 = self.de * self.diffp(self.fn_mul,0,self.x2,self.w2) # df/dx1 = df/dd * dd/dx1 \n",
    "        print(\"dx1 = \",self.dx2)\n",
    "        \n",
    "        \n",
    "\n",
    "\n"
   ]
  },
  {
   "cell_type": "code",
   "execution_count": 203,
   "metadata": {},
   "outputs": [],
   "source": [
    "x1 = 1/6\n",
    "w1 = math.pi\n",
    "\n",
    "x2 = 1/2\n",
    "w2 = math.pi"
   ]
  },
  {
   "cell_type": "code",
   "execution_count": 204,
   "metadata": {},
   "outputs": [
    {
     "name": "stdout",
     "output_type": "stream",
     "text": [
      "Forward Pass :-\n",
      "d =  0.5235987755982988\n",
      "e =  1.5707963267948966\n",
      "b =  0.24999999999999994\n",
      "c =  6.123233995736766e-17  (aprrox. = 0)\n",
      "a =  0.25\n",
      "x =  2.25\n",
      "f or y =  0.4444444444444444\n",
      "\n",
      "Backward Pass :-\n",
      "df =  1\n",
      "dx =  -0.19750867608081535\n",
      "da =  -0.19750867608081535\n",
      "da =  -0.19752186509705527\n",
      "dc =  -0.19753283000574282\n",
      "dd =  -0.17105975621429567\n",
      "de =  0.1975503907893618\n",
      "\n",
      "dW1 =  -0.028506163438375177\n",
      "dx1 =  -0.5374010038745519\n",
      "\n",
      "dW1 =  0.09878397656707233\n",
      "dx1 =  0.6206019984329215\n"
     ]
    }
   ],
   "source": [
    "net = ScalarNetwork(x1,w1,x2,w2)\n",
    "\n",
    "print(\"Forward Pass :-\")\n",
    "net.forward()\n",
    "\n",
    "print(\"\\nBackward Pass :-\")\n",
    "net.backprop()"
   ]
  },
  {
   "attachments": {},
   "cell_type": "markdown",
   "metadata": {},
   "source": [
    "_It can be seen that the answers approximately match to part a)_"
   ]
  },
  {
   "attachments": {},
   "cell_type": "markdown",
   "metadata": {},
   "source": [
    "# Question 2"
   ]
  },
  {
   "attachments": {},
   "cell_type": "markdown",
   "metadata": {},
   "source": [
    "### a)"
   ]
  },
  {
   "attachments": {},
   "cell_type": "markdown",
   "metadata": {},
   "source": [
    "$W = \\begin{bmatrix}\n",
    "0.1 & 0.2 & 0.4\\\\\n",
    "0.3 & 0.5 & 0.7\\\\\n",
    "0.6 & 0.9 & 0.8\n",
    "\\end{bmatrix}$\n",
    "\n",
    "$x = \\begin{bmatrix}\n",
    "0.4\\\\\n",
    "0.7\\\\\n",
    "0.1\n",
    "\\end{bmatrix}$"
   ]
  },
  {
   "attachments": {},
   "cell_type": "markdown",
   "metadata": {},
   "source": [
    "$f = {|| \\sigma{(Wx)} ||}^2$"
   ]
  },
  {
   "attachments": {},
   "cell_type": "markdown",
   "metadata": {},
   "source": [
    "$q = \\sigma{(Wx)}$ "
   ]
  },
  {
   "attachments": {},
   "cell_type": "markdown",
   "metadata": {},
   "source": [
    "$\\dfrac{df}{dW} = 2* ([(1-q) \\odot q] \\cdot q ) * x^{T} = \\begin{bmatrix}\n",
    "0.109 & 0.190 & 0.0272\\\\\n",
    "0.117 & 0.205 & 0.0293\\\\\n",
    "0.116 & 0.203 & 0.0.289\n",
    "\\end{bmatrix}$\n",
    "\n",
    "$\\dfrac{df}{dx} = 2* W^{T} * ([(1-q) \\odot q] \\cdot q ) = \\begin{bmatrix}\n",
    "0.289\\\\\n",
    "0.461\\\\\n",
    "0.545\n",
    "\\end{bmatrix}$"
   ]
  },
  {
   "attachments": {},
   "cell_type": "markdown",
   "metadata": {},
   "source": [
    "### b)"
   ]
  },
  {
   "cell_type": "code",
   "execution_count": 205,
   "metadata": {},
   "outputs": [],
   "source": [
    "import numpy as np\n",
    "import copy"
   ]
  },
  {
   "cell_type": "code",
   "execution_count": 206,
   "metadata": {},
   "outputs": [],
   "source": [
    "class VectorNetwork():\n",
    "    def __init__(self,W,x):\n",
    "        self.W = W\n",
    "        self.x = x\n",
    "    \n",
    "    def fn_dot(self,W,x):\n",
    "        return np.dot(W,x)\n",
    "    \n",
    "\n",
    "    def fn_sigmoid(self,m):\n",
    "        return 1/(1 + np.exp(-1*m))\n",
    "    \n",
    "    def fn_L2(self,q):\n",
    "        return np.linalg.norm(q)**2\n",
    "    \n",
    "    def jacobian(self,fn,idx,*args):\n",
    "        delta = 0.000000000001\n",
    "\n",
    "        args_list = list(args)\n",
    "        y = fn(*args)\n",
    "\n",
    "        if type(y) == np.float64:\n",
    "            n = 1\n",
    "        else:\n",
    "            n = len(y)\n",
    "        \n",
    "        m = np.prod(np.shape(args_list[idx]))\n",
    "\n",
    "        J = np.zeros((n, m))\n",
    "\n",
    "        for i in range(n):\n",
    "            for j_id,_ in np.ndenumerate(args_list[idx]):\n",
    "                x = copy.deepcopy(args_list)\n",
    "\n",
    "                x[idx][j_id] += delta\n",
    "\n",
    "                y1 = fn(*x)\n",
    "\n",
    "                if np.shape(args_list[idx])[0] == 1:\n",
    "                    j =  j_id[1] \n",
    "                elif np.shape(args_list[idx])[1] == 1:\n",
    "                    j = j =  j_id[0]\n",
    "                else:   \n",
    "                    j =  j_id[0]*np.shape(args_list[idx])[1] + j_id[1]\n",
    "\n",
    "\n",
    "                result = ((y1 - y) / (delta))\n",
    "\n",
    "                if type(result) != np.float64:\n",
    "                    result = result[i]\n",
    "\n",
    "                J[i,j] = result\n",
    "        \n",
    "        return J\n",
    "\n",
    "    def forward(self):\n",
    "        self.m = self.fn_dot(self.W,self.x) # m = W*x\n",
    "        print(\"m :\\n\",self.m)\n",
    "\n",
    "        self.q = self.fn_sigmoid(self.m) # q = sigmoid(m)\n",
    "        print(\"\\nq :\\n\",self.q)\n",
    "\n",
    "        self.output = self.fn_L2(self.q) # f = ||q||^2\n",
    "        print(\"\\nf :\\n\",self.output)\n",
    "    \n",
    "    def backprop(self):\n",
    "        self.df = 1\n",
    "\n",
    "        self.dq = np.reshape(np.dot(self.df,self.jacobian(self.fn_L2,0,self.q)),np.shape(self.q))\n",
    "        print(\"dq :\\n\",self.dq)\n",
    "\n",
    "        self.dm = np.reshape(np.dot(self.jacobian(self.fn_sigmoid,0,self.m),self.dq),np.shape(self.m))\n",
    "        print(\"\\ndm :\\n\",self.dm)\n",
    "\n",
    "        self.dW = np.reshape(np.dot(np.transpose(self.jacobian(self.fn_dot,0,self.W,self.x)),self.dm),np.shape(self.W))\n",
    "        print(\"\\ndW :\\n\",self.dW)\n",
    "\n",
    "        self.dx = np.reshape(np.dot(np.transpose(self.jacobian(self.fn_dot,1,self.W,self.x)),self.dm),np.shape(self.x))\n",
    "        print(\"\\ndx :\\n\",self.dx)\n",
    "\n",
    "        "
   ]
  },
  {
   "cell_type": "code",
   "execution_count": 207,
   "metadata": {},
   "outputs": [],
   "source": [
    "W = np.array([[0.1,0.2,0.4],[0.3,0.5,0.7],[0.6,0.9,0.8]])\n",
    "\n",
    "x = np.array([[0.4],[0.7],[0.1]])"
   ]
  },
  {
   "cell_type": "code",
   "execution_count": 208,
   "metadata": {},
   "outputs": [
    {
     "name": "stdout",
     "output_type": "stream",
     "text": [
      "Forward Pass:-\n",
      "m :\n",
      " [[0.22]\n",
      " [0.54]\n",
      " [0.95]]\n",
      "\n",
      "q :\n",
      " [[0.55477924]\n",
      " [0.63181242]\n",
      " [0.72111518]]\n",
      "\n",
      "f :\n",
      " 1.2269740308866302\n",
      "\n",
      "Backward Pass:-\n",
      "dq :\n",
      " [[1.10933485]\n",
      " [1.26387789]\n",
      " [1.44240175]]\n",
      "\n",
      "dm :\n",
      " [[0.27390986]\n",
      " [0.29396754]\n",
      " [0.29017144]]\n",
      "\n",
      "dW :\n",
      " [[0.1095676  0.1917433  0.0273919 ]\n",
      " [0.11759094 0.20577599 0.02940589]\n",
      " [0.11610467 0.20315095 0.02902617]]\n",
      "\n",
      "dx :\n",
      " [[0.28966952]\n",
      " [0.46291949]\n",
      " [0.54748089]]\n"
     ]
    }
   ],
   "source": [
    "net = VectorNetwork(W,x)\n",
    "print(\"Forward Pass:-\")\n",
    "net.forward()\n",
    "\n",
    "print(\"\\nBackward Pass:-\")\n",
    "net.backprop()\n"
   ]
  },
  {
   "attachments": {},
   "cell_type": "markdown",
   "metadata": {},
   "source": [
    "_Due to human rounding error, some numbers differ by a bit, but overall it can be observed all numbers closely match the numbers form part a)_"
   ]
  }
 ],
 "metadata": {
  "kernelspec": {
   "display_name": "ComputerVision",
   "language": "python",
   "name": "python3"
  },
  "language_info": {
   "codemirror_mode": {
    "name": "ipython",
    "version": 3
   },
   "file_extension": ".py",
   "mimetype": "text/x-python",
   "name": "python",
   "nbconvert_exporter": "python",
   "pygments_lexer": "ipython3",
   "version": "3.9.15"
  },
  "orig_nbformat": 4,
  "vscode": {
   "interpreter": {
    "hash": "2531915ab5b6d7f6e073a1b4ef06ed0b2b780c8145dd924165dc427f5e6c9cf0"
   }
  }
 },
 "nbformat": 4,
 "nbformat_minor": 2
}
